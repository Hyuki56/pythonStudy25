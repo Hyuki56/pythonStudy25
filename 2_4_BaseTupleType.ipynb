{
  "nbformat": 4,
  "nbformat_minor": 0,
  "metadata": {
    "colab": {
      "provenance": [],
      "authorship_tag": "ABX9TyOyQnvtcJjLdm2oji09+or4",
      "include_colab_link": true
    },
    "kernelspec": {
      "name": "python3",
      "display_name": "Python 3"
    },
    "language_info": {
      "name": "python"
    }
  },
  "cells": [
    {
      "cell_type": "markdown",
      "metadata": {
        "id": "view-in-github",
        "colab_type": "text"
      },
      "source": [
        "<a href=\"https://colab.research.google.com/github/Hyuki56/pythonStudy25/blob/master/2_4_BaseTupleType.ipynb\" target=\"_parent\"><img src=\"https://colab.research.google.com/assets/colab-badge.svg\" alt=\"Open In Colab\"/></a>"
      ]
    },
    {
      "cell_type": "code",
      "execution_count": null,
      "metadata": {
        "id": "Hp2K3bVcd_i7"
      },
      "outputs": [],
      "source": [
        "# 튜플 자료형\n",
        "'''\n",
        "모습은 리스트와 거의 비슷하지만,\n",
        "튜플에서는 리스트와 다른 2가지 차이점을 찾아볼 수 있다.\n",
        "t2 = (1,)처럼 단지 1개의 요소만을 가질 때는 요소 뒤에 쉼표(,)를 반드시 붙여야 한다는 것과\n",
        "t4 = 1, 2, 3처럼 소괄호(())를 생략해도 된다는 점이다.\n",
        "\n",
        " 튜플과 리스트의 가장 큰 차이는 요솟값을 변화시킬 수 있는지의 여부이다.\n",
        " 즉, 리스트의 요솟값은 변화가 가능하고 튜플의 요솟값은 변화가 불가능하다\n",
        "'''"
      ]
    },
    {
      "cell_type": "code",
      "source": [
        "# 인덱싱하기\n",
        "t1 = ( 1,2,'a','b' )\n",
        "print(t1[0])\n",
        "print(t1[3])\n"
      ],
      "metadata": {
        "id": "uHt5YRIje3Zq",
        "colab": {
          "base_uri": "https://localhost:8080/"
        },
        "outputId": "4de5495f-8f45-40f4-c990-2a117fed977a"
      },
      "execution_count": null,
      "outputs": [
        {
          "output_type": "stream",
          "name": "stdout",
          "text": [
            "1\n",
            "b\n"
          ]
        }
      ]
    },
    {
      "cell_type": "code",
      "source": [
        "#슬라이싱하기\n",
        "t1 = (1,2,'a','b')\n",
        "t1[1:]"
      ],
      "metadata": {
        "colab": {
          "base_uri": "https://localhost:8080/"
        },
        "id": "03-wIZ3mUa2J",
        "outputId": "24a45f03-d408-41fe-8037-0350596d2395"
      },
      "execution_count": null,
      "outputs": [
        {
          "output_type": "execute_result",
          "data": {
            "text/plain": [
              "(2, 'a', 'b')"
            ]
          },
          "metadata": {},
          "execution_count": 4
        }
      ]
    },
    {
      "cell_type": "code",
      "source": [
        "#튜플 더하기\n",
        "t1 = (1,2,'a','b')\n",
        "t2 = (3,4)\n",
        "t3 = t1 + t2\n",
        "print(t3)"
      ],
      "metadata": {
        "colab": {
          "base_uri": "https://localhost:8080/"
        },
        "id": "YJjSi9AEUhiQ",
        "outputId": "a5d9267f-833d-437d-d671-faa24a4b1b64"
      },
      "execution_count": null,
      "outputs": [
        {
          "output_type": "stream",
          "name": "stdout",
          "text": [
            "(1, 2, 'a', 'b', 3, 4)\n"
          ]
        }
      ]
    },
    {
      "cell_type": "code",
      "source": [
        "#튜플 곱하기\n",
        "t2 = (3,4)\n",
        "t3 = t2 * 3\n",
        "print(t3)\n",
        "\n",
        "#튜플 길이 구하기\n",
        "print(\"튜플의 길이는 : \" + str(len(t3)))"
      ],
      "metadata": {
        "colab": {
          "base_uri": "https://localhost:8080/"
        },
        "id": "mu_7q1oJU0WB",
        "outputId": "b82d5416-97aa-4123-efdb-4e53c0cceb64"
      },
      "execution_count": null,
      "outputs": [
        {
          "output_type": "stream",
          "name": "stdout",
          "text": [
            "(3, 4, 3, 4, 3, 4)\n",
            "튜플의 길이는 : 6\n"
          ]
        }
      ]
    }
  ]
}