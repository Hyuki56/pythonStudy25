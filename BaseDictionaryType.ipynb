{
  "nbformat": 4,
  "nbformat_minor": 0,
  "metadata": {
    "colab": {
      "provenance": [],
      "authorship_tag": "ABX9TyO6gJ5z+9ulrXTFknqsrYty",
      "include_colab_link": true
    },
    "kernelspec": {
      "name": "python3",
      "display_name": "Python 3"
    },
    "language_info": {
      "name": "python"
    }
  },
  "cells": [
    {
      "cell_type": "markdown",
      "metadata": {
        "id": "view-in-github",
        "colab_type": "text"
      },
      "source": [
        "<a href=\"https://colab.research.google.com/github/Hyuki56/pythonStudy25/blob/master/BaseDictionaryType.ipynb\" target=\"_parent\"><img src=\"https://colab.research.google.com/assets/colab-badge.svg\" alt=\"Open In Colab\"/></a>"
      ]
    },
    {
      "cell_type": "code",
      "execution_count": null,
      "metadata": {
        "id": "ANtBQFo-VbCk"
      },
      "outputs": [],
      "source": [
        "# 대응관계를 나타내는 자료형을 딕셔너리라고 하고,\n",
        "# 연관 배열(associative array), 또는 해시(hash)라고 한다\n",
        "# 딕셔너리란 Key를 통해 Vaule를 얻는 것이 특징"
      ]
    },
    {
      "cell_type": "code",
      "source": [
        "dic = {'name':'hyuk', 'phone':'010-1234-1234', 'birth':'990506'}\n"
      ],
      "metadata": {
        "id": "xYW0pfy2V7iI"
      },
      "execution_count": 1,
      "outputs": []
    },
    {
      "cell_type": "code",
      "source": [
        "a = {1:'hi'}\n",
        "print(a)\n",
        "a = {'a':[1,2,3]}\n",
        "print(a)"
      ],
      "metadata": {
        "colab": {
          "base_uri": "https://localhost:8080/"
        },
        "id": "XPKnkHtYWPf3",
        "outputId": "1e71961f-f90f-43ce-9635-6d2633b5fa3e"
      },
      "execution_count": 6,
      "outputs": [
        {
          "output_type": "stream",
          "name": "stdout",
          "text": [
            "{1: 'hi'}\n",
            "{'a': [1, 2, 3]}\n"
          ]
        }
      ]
    },
    {
      "cell_type": "code",
      "source": [
        "# 딕셔너리 쌍 추가하기\n",
        "a = {1:'a'}\n",
        "a[2] = 'b'\n",
        "print(a)\n",
        "\n",
        "a[3] = [1,2,3]\n",
        "print(a)"
      ],
      "metadata": {
        "colab": {
          "base_uri": "https://localhost:8080/"
        },
        "id": "z8p0ucArWf2P",
        "outputId": "723f5113-1e7e-4c6d-bc8b-3d7e18ece6f7"
      },
      "execution_count": 17,
      "outputs": [
        {
          "output_type": "stream",
          "name": "stdout",
          "text": [
            "{1: 'a', 2: 'b'}\n",
            "{1: 'a', 2: 'b', 3: [1, 2, 3]}\n"
          ]
        }
      ]
    },
    {
      "cell_type": "code",
      "source": [
        "# 딕셔너리 요소 삭제\n",
        "del a[1]\n",
        "print(a)"
      ],
      "metadata": {
        "colab": {
          "base_uri": "https://localhost:8080/"
        },
        "id": "pPiaXPphWti_",
        "outputId": "67af15dd-556d-40ad-adfe-1479ea79b6af"
      },
      "execution_count": 19,
      "outputs": [
        {
          "output_type": "stream",
          "name": "stdout",
          "text": [
            "{2: 'b', 3: [1, 2, 3]}\n"
          ]
        }
      ]
    },
    {
      "cell_type": "code",
      "source": [
        "grade = {'pey':10, 'juliet':99}\n",
        "print(grade['pey'])\n",
        "print(grade['juliet'])"
      ],
      "metadata": {
        "colab": {
          "base_uri": "https://localhost:8080/"
        },
        "id": "oC-55jUXXQUH",
        "outputId": "685c9c2c-04bc-4295-f855-45c3c06874e3"
      },
      "execution_count": 26,
      "outputs": [
        {
          "output_type": "stream",
          "name": "stdout",
          "text": [
            "10\n",
            "99\n"
          ]
        }
      ]
    },
    {
      "cell_type": "code",
      "source": [
        "a = {1:'a', 2: 'b'}\n",
        "print(a[1])\n",
        "print(a[2])"
      ],
      "metadata": {
        "colab": {
          "base_uri": "https://localhost:8080/"
        },
        "id": "cZ6yIaF-X_U_",
        "outputId": "fd671b3c-c26f-4264-b560-66589d15468d"
      },
      "execution_count": 31,
      "outputs": [
        {
          "output_type": "stream",
          "name": "stdout",
          "text": [
            "a\n",
            "b\n"
          ]
        }
      ]
    },
    {
      "source": [
        "a = {1:'a'} # Initialize a with an integer key, which is hashable\n",
        "a[2] = 'b'\n",
        "print(a)\n",
        "a[3] = [1,2,3]\n",
        "print(a)\n",
        "\n",
        "# Instead of using the dictionary 'a' as a key, use a different hashable value:\n",
        "my_dict = {'new_key': 'a', 2: 'b'}\n",
        "# 'new_key' is a string and is hashable\n",
        "\n",
        "# Accessing values:\n",
        "print(my_dict['new_key'])  # Output: a\n",
        "print(my_dict[2])  # Output: b"
      ],
      "cell_type": "code",
      "metadata": {
        "id": "Zkt8RLM3YKc_"
      },
      "execution_count": null,
      "outputs": []
    },
    {
      "cell_type": "code",
      "source": [
        "# key를 사욯해 Vaule 얻기\n",
        "dic = {'name':'pey', 'phone':'010-1234-1234', 'birth':'990506'}\n",
        "print(dic['name'])\n",
        "print(dic['phone'])\n",
        "print(dic['birth'])"
      ],
      "metadata": {
        "colab": {
          "base_uri": "https://localhost:8080/"
        },
        "id": "YuCQC8x7YaeX",
        "outputId": "629c26b9-a84c-4f3c-f4c7-e963bafa9d86"
      },
      "execution_count": 35,
      "outputs": [
        {
          "output_type": "stream",
          "name": "stdout",
          "text": [
            "pey\n",
            "010-1234-1234\n",
            "990506\n"
          ]
        }
      ]
    },
    {
      "cell_type": "code",
      "source": [
        "# key 리스트 만들기 - keys\n",
        "a = {'name' : 'pey', 'phone':'010-1234-1234','birth':'990506'}\n",
        "print(a.keys())\n",
        "print(list(a.keys()))"
      ],
      "metadata": {
        "colab": {
          "base_uri": "https://localhost:8080/"
        },
        "id": "PfBTUsVIfIoG",
        "outputId": "2c8810a5-8b0b-4cfb-ddd2-e13167530ad4"
      },
      "execution_count": 39,
      "outputs": [
        {
          "output_type": "stream",
          "name": "stdout",
          "text": [
            "dict_keys(['name', 'phone', 'birth'])\n",
            "['name', 'phone', 'birth']\n"
          ]
        }
      ]
    },
    {
      "cell_type": "code",
      "source": [
        "# for문 사용하여 key들 뽑아내기\n",
        "for k in a.keys():\n",
        "    print(k)"
      ],
      "metadata": {
        "colab": {
          "base_uri": "https://localhost:8080/"
        },
        "id": "VUpLJsGvfnne",
        "outputId": "f67cb443-f332-4c4d-91b3-e3f726b9c7a9"
      },
      "execution_count": 40,
      "outputs": [
        {
          "output_type": "stream",
          "name": "stdout",
          "text": [
            "name\n",
            "phone\n",
            "birth\n"
          ]
        }
      ]
    },
    {
      "cell_type": "code",
      "source": [
        "list(a.keys())"
      ],
      "metadata": {
        "colab": {
          "base_uri": "https://localhost:8080/"
        },
        "id": "zhuV3KV2f1il",
        "outputId": "32b98d53-2a19-4594-efe2-6d13e0e63199"
      },
      "execution_count": 41,
      "outputs": [
        {
          "output_type": "execute_result",
          "data": {
            "text/plain": [
              "['name', 'phone', 'birth']"
            ]
          },
          "metadata": {},
          "execution_count": 41
        }
      ]
    },
    {
      "cell_type": "code",
      "source": [
        "# Vaule 리스트 만들기 - vaules\n",
        "print(a.values())\n",
        "print(list(a.values()))"
      ],
      "metadata": {
        "colab": {
          "base_uri": "https://localhost:8080/"
        },
        "id": "THv2SFvrf5u1",
        "outputId": "8f19fd02-a5c4-4730-c132-6c8232225631"
      },
      "execution_count": 52,
      "outputs": [
        {
          "output_type": "stream",
          "name": "stdout",
          "text": [
            "dict_values(['pey', '010-1234-1234', '990506'])\n",
            "['pey', '010-1234-1234', '990506']\n"
          ]
        }
      ]
    },
    {
      "cell_type": "code",
      "source": [
        "#key, vaule 쌍 얻기 items\n",
        "a.items()"
      ],
      "metadata": {
        "colab": {
          "base_uri": "https://localhost:8080/"
        },
        "id": "FdZsR_0-ga6d",
        "outputId": "11e86db4-6b88-4a6e-ac02-164ed4da7254"
      },
      "execution_count": 57,
      "outputs": [
        {
          "output_type": "execute_result",
          "data": {
            "text/plain": [
              "dict_items([('name', 'pey'), ('phone', '010-1234-1234'), ('birth', '990506')])"
            ]
          },
          "metadata": {},
          "execution_count": 57
        }
      ]
    },
    {
      "cell_type": "code",
      "source": [
        "# key, Vaule 쌍 모두 지우기 - clear\n",
        "a.clear()\n",
        "a"
      ],
      "metadata": {
        "colab": {
          "base_uri": "https://localhost:8080/"
        },
        "id": "WdLRBu4cgXMF",
        "outputId": "f65bbccc-5d1b-496a-bcbd-97cd80e660c1"
      },
      "execution_count": 59,
      "outputs": [
        {
          "output_type": "execute_result",
          "data": {
            "text/plain": [
              "{}"
            ]
          },
          "metadata": {},
          "execution_count": 59
        }
      ]
    },
    {
      "cell_type": "code",
      "source": [
        "# key로 Value 얻기 - get\n",
        "a = {'name' : 'pey', 'phone':'010-1234-1234','birth':'990506'}\n",
        "print(a.get('name'))\n",
        "print(a.get('phone'))"
      ],
      "metadata": {
        "colab": {
          "base_uri": "https://localhost:8080/"
        },
        "id": "BVhewXueg9Ol",
        "outputId": "50befed7-d853-4e2a-9a65-9ba4d1d4d6b5"
      },
      "execution_count": 62,
      "outputs": [
        {
          "output_type": "stream",
          "name": "stdout",
          "text": [
            "pey\n",
            "010-1234-1234\n"
          ]
        }
      ]
    },
    {
      "cell_type": "code",
      "source": [
        "# 해당 key가 딕셔너리 안에 있는지 조사하기 - in\n",
        "a = {'name' : 'pey', 'phone':'010-1234-1234','birth':'990506'}\n",
        "print('name' in a)\n",
        "print('email' in a)"
      ],
      "metadata": {
        "colab": {
          "base_uri": "https://localhost:8080/"
        },
        "id": "wZFpngR-hJP1",
        "outputId": "635e5fa9-6c11-46ba-9578-5f62dc87f820"
      },
      "execution_count": 67,
      "outputs": [
        {
          "output_type": "stream",
          "name": "stdout",
          "text": [
            "True\n",
            "False\n"
          ]
        }
      ]
    }
  ]
}