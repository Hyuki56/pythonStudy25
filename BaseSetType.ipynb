{
  "nbformat": 4,
  "nbformat_minor": 0,
  "metadata": {
    "colab": {
      "provenance": [],
      "authorship_tag": "ABX9TyPuZadcHIUE049I5EM7S3C0",
      "include_colab_link": true
    },
    "kernelspec": {
      "name": "python3",
      "display_name": "Python 3"
    },
    "language_info": {
      "name": "python"
    }
  },
  "cells": [
    {
      "cell_type": "markdown",
      "metadata": {
        "id": "view-in-github",
        "colab_type": "text"
      },
      "source": [
        "<a href=\"https://colab.research.google.com/github/Hyuki56/pythonStudy25/blob/master/BaseSetType.ipynb\" target=\"_parent\"><img src=\"https://colab.research.google.com/assets/colab-badge.svg\" alt=\"Open In Colab\"/></a>"
      ]
    },
    {
      "cell_type": "code",
      "execution_count": 2,
      "metadata": {
        "colab": {
          "base_uri": "https://localhost:8080/"
        },
        "id": "iU04zNtyjIY8",
        "outputId": "c58b2a36-ea14-4354-9d20-e80b298f312e"
      },
      "outputs": [
        {
          "output_type": "execute_result",
          "data": {
            "text/plain": [
              "{1, 2, 3}"
            ]
          },
          "metadata": {},
          "execution_count": 2
        }
      ],
      "source": [
        "#집합 자료형\n",
        "s1 = set([1,2,3])\n",
        "s1"
      ]
    },
    {
      "cell_type": "code",
      "source": [
        "# 집합 자료형은 1. 중복x 2. 순서가 없다\n",
        "s2 = set('hello')\n",
        "s2"
      ],
      "metadata": {
        "colab": {
          "base_uri": "https://localhost:8080/"
        },
        "id": "U9CAjgq1jkec",
        "outputId": "e88220aa-0179-4991-fbe8-f4877e4b7e2e"
      },
      "execution_count": 4,
      "outputs": [
        {
          "output_type": "execute_result",
          "data": {
            "text/plain": [
              "{'e', 'h', 'l', 'o'}"
            ]
          },
          "metadata": {},
          "execution_count": 4
        }
      ]
    },
    {
      "cell_type": "code",
      "source": [
        "# list나 tuple과 달리 순서가 없기 때문에 인덱싱을 통해 요솟값을 얻으려면 set 자료형을 리스트나 튜플로 변환\n",
        "\n",
        "s1 = set([1,2,3])\n",
        "# 리스트로 변환\n",
        "l1 = list(s1)\n",
        "print(l1)\n",
        "print(l1[0])\n",
        "# 튜플로 변환\n",
        "t1 = tuple(s1)\n",
        "print(t1)\n",
        "print(t1[0])"
      ],
      "metadata": {
        "colab": {
          "base_uri": "https://localhost:8080/"
        },
        "id": "sFpi4X6tj3Qs",
        "outputId": "9fb0e3ab-0256-4cfc-dfc7-75738d2c85c7"
      },
      "execution_count": 12,
      "outputs": [
        {
          "output_type": "stream",
          "name": "stdout",
          "text": [
            "[1, 2, 3]\n",
            "1\n",
            "(1, 2, 3)\n",
            "1\n"
          ]
        }
      ]
    },
    {
      "cell_type": "code",
      "source": [
        "# 교집합, 합집합, 차집합 구하기\n",
        "s1 = set([1,2,3,4,5,6])\n",
        "s2 = set([4,5,6,7,8,9])\n",
        "\n",
        "# 교집합\n",
        "print(s1 & s2)\n",
        "\n",
        "# 합집합\n",
        "print(s1 | s2) # = s1.union(s2)\n",
        "\n",
        "# 차집합\n",
        "print(s1 - s2) # = s1.difference(s2)\n",
        "print(s2 - s1)"
      ],
      "metadata": {
        "colab": {
          "base_uri": "https://localhost:8080/"
        },
        "id": "sdP3liV3k2Qj",
        "outputId": "1816017a-b9c8-4bcc-c512-494b24f915c8"
      },
      "execution_count": 18,
      "outputs": [
        {
          "output_type": "stream",
          "name": "stdout",
          "text": [
            "{4, 5, 6}\n",
            "{1, 2, 3, 4, 5, 6, 7, 8, 9}\n",
            "{1, 2, 3}\n",
            "{8, 9, 7}\n"
          ]
        }
      ]
    },
    {
      "cell_type": "code",
      "source": [
        "# 값 1개 추가하기 add\n",
        "s1 = set([1,2,3])\n",
        "s1.add(4)\n",
        "print(s1)\n",
        "\n",
        "# 값 여러 개 추가하기 update\n",
        "s1 = set([1,2,3])\n",
        "s1.update([4,5,6])\n",
        "print(s1)\n",
        "\n",
        "# 특정 값 제거하기 remove\n",
        "s1 = set([1,2,3])\n",
        "s1.remove(2)\n",
        "print(s1)"
      ],
      "metadata": {
        "colab": {
          "base_uri": "https://localhost:8080/"
        },
        "id": "QsUSz6pblZ2L",
        "outputId": "51bdc82a-a35e-4c1c-f010-64a49419986e"
      },
      "execution_count": 22,
      "outputs": [
        {
          "output_type": "stream",
          "name": "stdout",
          "text": [
            "{1, 2, 3, 4}\n",
            "{1, 2, 3, 4, 5, 6}\n",
            "{1, 3}\n"
          ]
        }
      ]
    }
  ]
}