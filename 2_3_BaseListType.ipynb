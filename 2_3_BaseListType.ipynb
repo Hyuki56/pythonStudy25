{
  "nbformat": 4,
  "nbformat_minor": 0,
  "metadata": {
    "colab": {
      "provenance": [],
      "authorship_tag": "ABX9TyPJNkiuhp5U17DHIHESh2jU",
      "include_colab_link": true
    },
    "kernelspec": {
      "name": "python3",
      "display_name": "Python 3"
    },
    "language_info": {
      "name": "python"
    }
  },
  "cells": [
    {
      "cell_type": "markdown",
      "metadata": {
        "id": "view-in-github",
        "colab_type": "text"
      },
      "source": [
        "<a href=\"https://colab.research.google.com/github/Hyuki56/pythonStudy25/blob/master/2_3_BaseListType.ipynb\" target=\"_parent\"><img src=\"https://colab.research.google.com/assets/colab-badge.svg\" alt=\"Open In Colab\"/></a>"
      ]
    },
    {
      "cell_type": "code",
      "execution_count": null,
      "metadata": {
        "colab": {
          "base_uri": "https://localhost:8080/"
        },
        "id": "GZPrxLS9XnWM",
        "outputId": "e4302d24-a718-4e4c-c964-c40d8edf5759"
      },
      "outputs": [
        {
          "output_type": "stream",
          "name": "stdout",
          "text": [
            "a\n",
            "b\n"
          ]
        }
      ],
      "source": [
        "# 이중 리스트에서 끌어내기\n",
        "a = [1, 2, 3, ['a', 'b', 'c']]\n",
        "print(a[3][0])\n",
        "print(a[3][1])"
      ]
    },
    {
      "cell_type": "code",
      "source": [
        "# 삼중 리스트에서 끌어내기\n",
        "a = [1, 2, ['a', 'b', ['Life', 'is']]]\n",
        "print(a[2][2][0])\n",
        "print(a[2][2][1])"
      ],
      "metadata": {
        "colab": {
          "base_uri": "https://localhost:8080/"
        },
        "id": "9AfdEGWOYyT7",
        "outputId": "809c3f61-73c8-4479-9da5-b7f46df3384e"
      },
      "execution_count": null,
      "outputs": [
        {
          "output_type": "stream",
          "name": "stdout",
          "text": [
            "Life\n",
            "is\n"
          ]
        }
      ]
    },
    {
      "cell_type": "code",
      "source": [
        "# 리스트의 슬라이싱\n",
        "a = [1,2,3,4,5]\n",
        "print(a[0:2])\n",
        "\n",
        "a=\"12345\" # 스트링 역시 사용방법 동일\n",
        "print(a[0:2])"
      ],
      "metadata": {
        "colab": {
          "base_uri": "https://localhost:8080/"
        },
        "id": "1d9Pjw-hY-mL",
        "outputId": "73c56556-0b82-44b0-dc16-2ebd6b2c4e63"
      },
      "execution_count": null,
      "outputs": [
        {
          "output_type": "stream",
          "name": "stdout",
          "text": [
            "[1, 2]\n",
            "12\n"
          ]
        }
      ]
    },
    {
      "cell_type": "code",
      "source": [
        "a = [1, 2, 3, 4, 5]\n",
        "b = a[:2]\n",
        "c = a[2:]\n",
        "\n",
        "print(b)\n",
        "print(c)"
      ],
      "metadata": {
        "colab": {
          "base_uri": "https://localhost:8080/"
        },
        "id": "pjrHEu6cZDP7",
        "outputId": "2bebfe98-88c1-42ed-ad0b-e7a896e6ab3e"
      },
      "execution_count": null,
      "outputs": [
        {
          "output_type": "stream",
          "name": "stdout",
          "text": [
            "[1, 2]\n",
            "[3, 4, 5]\n"
          ]
        }
      ]
    },
    {
      "cell_type": "code",
      "source": [
        "# 중첩된 리스트에서 슬라이싱하기\n",
        "a = [1, 2, 3,['a', 'b', 'c',], 4, 5]\n",
        "a[2:5]\n"
      ],
      "metadata": {
        "colab": {
          "base_uri": "https://localhost:8080/"
        },
        "id": "czWmcC8mZe1C",
        "outputId": "343c2db6-a9a5-468b-a6c0-fe57d9d65977"
      },
      "execution_count": null,
      "outputs": [
        {
          "output_type": "execute_result",
          "data": {
            "text/plain": [
              "[3, ['a', 'b', 'c'], 4]"
            ]
          },
          "metadata": {},
          "execution_count": 10
        }
      ]
    },
    {
      "cell_type": "code",
      "source": [
        "# 리스트 더하기\n",
        "a = [1,2,3]\n",
        "b = [4,5,6]\n",
        "a + b"
      ],
      "metadata": {
        "colab": {
          "base_uri": "https://localhost:8080/"
        },
        "id": "az2YbdK9ZyDi",
        "outputId": "e6a66a22-9810-46f7-baab-1edb1862c5f6"
      },
      "execution_count": null,
      "outputs": [
        {
          "output_type": "execute_result",
          "data": {
            "text/plain": [
              "[1, 2, 3, 4, 5, 6]"
            ]
          },
          "metadata": {},
          "execution_count": 12
        }
      ]
    },
    {
      "cell_type": "code",
      "source": [
        "# 리스트 반복 + 길이 구하기\n",
        "a = [1,2,3]\n",
        "len(a*3)"
      ],
      "metadata": {
        "colab": {
          "base_uri": "https://localhost:8080/"
        },
        "id": "w2q5BsjdZ4wS",
        "outputId": "2f24b673-256e-4dd0-cf1e-b97a0befc41a"
      },
      "execution_count": null,
      "outputs": [
        {
          "output_type": "execute_result",
          "data": {
            "text/plain": [
              "9"
            ]
          },
          "metadata": {},
          "execution_count": 14
        }
      ]
    },
    {
      "cell_type": "code",
      "source": [
        "# 서로 다른 타입( 정수와 문자열 ) 더하기\n",
        "a = [1, 2, 3]\n",
        "str(a[2]) + \"hi\""
      ],
      "metadata": {
        "colab": {
          "base_uri": "https://localhost:8080/",
          "height": 35
        },
        "id": "UYpte08naI4i",
        "outputId": "6a6de07d-c6b3-40e7-cfac-2edbd706771e"
      },
      "execution_count": null,
      "outputs": [
        {
          "output_type": "execute_result",
          "data": {
            "text/plain": [
              "'3hi'"
            ],
            "application/vnd.google.colaboratory.intrinsic+json": {
              "type": "string"
            }
          },
          "metadata": {},
          "execution_count": 15
        }
      ]
    },
    {
      "cell_type": "code",
      "source": [
        "# 리스트 값 수정하기\n",
        "a = [1,2,3]\n",
        "a[2] = 4\n",
        "a"
      ],
      "metadata": {
        "colab": {
          "base_uri": "https://localhost:8080/"
        },
        "id": "SH54Imh9aWmi",
        "outputId": "ee43eb5e-d190-42c7-fce8-81fc596e0ce5"
      },
      "execution_count": null,
      "outputs": [
        {
          "output_type": "execute_result",
          "data": {
            "text/plain": [
              "[1, 2, 4]"
            ]
          },
          "metadata": {},
          "execution_count": 16
        }
      ]
    },
    {
      "cell_type": "code",
      "source": [
        "#del 함수를 사용해 리스트 요소 삭제하기\n",
        "# del a[x]는 X 번째 요솟값을 삭제한다. 객체란 파이썬에서 사용되는 모든 자료형을 말한다.\n",
        "a = [1,2,3]\n",
        "del a[1]\n",
        "a"
      ],
      "metadata": {
        "colab": {
          "base_uri": "https://localhost:8080/"
        },
        "id": "jRzJb9etad5q",
        "outputId": "43298feb-901e-49df-8a0f-a7cb135737b2"
      },
      "execution_count": null,
      "outputs": [
        {
          "output_type": "execute_result",
          "data": {
            "text/plain": [
              "[1, 3]"
            ]
          },
          "metadata": {},
          "execution_count": 17
        }
      ]
    },
    {
      "cell_type": "code",
      "source": [
        "# 슬라이싱을 사용하여 리스트의 요소 여러개를 한 번에 삭제\n",
        "a = [1,2,3,4,5]\n",
        "del a[2:]\n",
        "a"
      ],
      "metadata": {
        "colab": {
          "base_uri": "https://localhost:8080/"
        },
        "id": "t5Gk7l74ajoa",
        "outputId": "c45aa5e4-ecee-48ed-9f99-1cae99577daa"
      },
      "execution_count": null,
      "outputs": [
        {
          "output_type": "execute_result",
          "data": {
            "text/plain": [
              "[1, 2]"
            ]
          },
          "metadata": {},
          "execution_count": 19
        }
      ]
    },
    {
      "cell_type": "code",
      "source": [
        "# 리스트에 요소 추가하기 append\n",
        "# 리스트에는 어떤 자료형이든 추가할 수 있다\n",
        "a = [1,2,3]\n",
        "a.append(4)\n",
        "print(a)\n",
        "a.append([5,6])\n",
        "print(a)"
      ],
      "metadata": {
        "colab": {
          "base_uri": "https://localhost:8080/"
        },
        "id": "6A4TjHcta4tC",
        "outputId": "2f9cf178-b2f3-43d2-92e9-adb3553b6062"
      },
      "execution_count": null,
      "outputs": [
        {
          "output_type": "stream",
          "name": "stdout",
          "text": [
            "[1, 2, 3, 4]\n",
            "[1, 2, 3, 4, [5, 6]]\n"
          ]
        }
      ]
    },
    {
      "cell_type": "code",
      "source": [
        "# 리스트 정렬 sort\n",
        "a = [1,4,3,2]\n",
        "a.sort()\n",
        "print(a)\n",
        "\n",
        "# 리스트 뒤집기 reverse\n",
        "a.reverse()\n",
        "print(a)"
      ],
      "metadata": {
        "colab": {
          "base_uri": "https://localhost:8080/"
        },
        "id": "yvtubwxibAKK",
        "outputId": "509c8d42-6df4-4760-901f-4d084304a092"
      },
      "execution_count": null,
      "outputs": [
        {
          "output_type": "stream",
          "name": "stdout",
          "text": [
            "[1, 2, 3, 4]\n",
            "[4, 3, 2, 1]\n"
          ]
        }
      ]
    },
    {
      "cell_type": "code",
      "source": [
        "# 인덱스 (현재 위치) 반환 index\n",
        "a = [1,2,3]\n",
        "print(a.index(3))\n",
        "print(a.index(1))"
      ],
      "metadata": {
        "colab": {
          "base_uri": "https://localhost:8080/"
        },
        "id": "EZ_a9hjvbXYC",
        "outputId": "306c61aa-ba5a-484c-d4bf-9f0bb09694ad"
      },
      "execution_count": null,
      "outputs": [
        {
          "output_type": "stream",
          "name": "stdout",
          "text": [
            "2\n",
            "0\n"
          ]
        }
      ]
    },
    {
      "cell_type": "code",
      "source": [
        "# 리스트 요소 삽입 insert\n",
        "a = [1,2,3]\n",
        "a.insert(0,4)\n",
        "print(a)\n",
        "a.insert(3,5)\n",
        "print(a)"
      ],
      "metadata": {
        "colab": {
          "base_uri": "https://localhost:8080/"
        },
        "id": "hrBi8PLXbp0a",
        "outputId": "88c6348b-53eb-45dd-de3a-d6fc3c9bcea0"
      },
      "execution_count": null,
      "outputs": [
        {
          "output_type": "stream",
          "name": "stdout",
          "text": [
            "[4, 1, 2, 3]\n",
            "[4, 1, 2, 5, 3]\n"
          ]
        }
      ]
    },
    {
      "cell_type": "code",
      "source": [
        "# 리스트 요소 제거 remove\n",
        "a = [1,2,3,1,2,3]\n",
        "a.remove(3) # 첫 번째 3 제거\n",
        "print(a)\n",
        "a.remove(3) # 두 번째 3 제거\n",
        "print(a)"
      ],
      "metadata": {
        "colab": {
          "base_uri": "https://localhost:8080/"
        },
        "id": "lYUMWCSbb9Ii",
        "outputId": "265b6bd2-5bd4-4031-ef49-9f63aab73f23"
      },
      "execution_count": null,
      "outputs": [
        {
          "output_type": "stream",
          "name": "stdout",
          "text": [
            "[1, 2, 1, 2, 3]\n",
            "[1, 2, 1, 2]\n"
          ]
        }
      ]
    },
    {
      "cell_type": "code",
      "source": [
        "# 리스트 요소 끄집어 내기 pop\n",
        "a = [1,2,3]\n",
        "print(\"삭제된 값 : \" + str(a.pop()) # pop() 은 리스트의 맨 마지막 요소를 리턴하고 그 요소는 삭제한다.\n",
        "print(a)\n",
        "\n",
        "b = [1,2,3]\n",
        "print(\"삭제된 값 : \" + str(b.pop(1))) # 1번 index 리턴하고 삭제\n",
        "print(b)"
      ],
      "metadata": {
        "colab": {
          "base_uri": "https://localhost:8080/"
        },
        "id": "uw5FHyhecMqC",
        "outputId": "6774e63f-2682-4443-b082-430e152c41be"
      },
      "execution_count": null,
      "outputs": [
        {
          "output_type": "stream",
          "name": "stdout",
          "text": [
            "삭제된 값 : 3\n",
            "[1, 2]\n",
            "삭제된 값 : 2\n",
            "[1, 3]\n"
          ]
        }
      ]
    },
    {
      "cell_type": "code",
      "source": [
        "# 리스트에 포함된 요소 x의 개수 세기 count\n",
        "a = [1,2,3,1]\n",
        "a.count(1)"
      ],
      "metadata": {
        "colab": {
          "base_uri": "https://localhost:8080/"
        },
        "id": "05Wy8Q1Bc61h",
        "outputId": "0954faef-57aa-4f66-a431-36fae87068f4"
      },
      "execution_count": null,
      "outputs": [
        {
          "output_type": "execute_result",
          "data": {
            "text/plain": [
              "2"
            ]
          },
          "metadata": {},
          "execution_count": 60
        }
      ]
    },
    {
      "cell_type": "code",
      "source": [
        "# 리스트 확장 extend\n",
        "a = [1,2,3]\n",
        "a.extend([4,5]) # a += [4,5]와 동일\n",
        "print(a)\n",
        "\n",
        "b = [6,7]\n",
        "a.extend(b)\n",
        "print(a)"
      ],
      "metadata": {
        "colab": {
          "base_uri": "https://localhost:8080/"
        },
        "id": "JPCbvt9rdV-R",
        "outputId": "b419ab27-709a-4642-842a-6491ba876586"
      },
      "execution_count": null,
      "outputs": [
        {
          "output_type": "stream",
          "name": "stdout",
          "text": [
            "[1, 2, 3, 4, 5]\n",
            "[1, 2, 3, 4, 5, 6, 7]\n"
          ]
        }
      ]
    },
    {
      "cell_type": "code",
      "source": [],
      "metadata": {
        "id": "w9a9nljpfKoK"
      },
      "execution_count": null,
      "outputs": []
    }
  ]
}