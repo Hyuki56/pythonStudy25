{
  "cells": [
    {
      "cell_type": "markdown",
      "metadata": {
        "id": "view-in-github",
        "colab_type": "text"
      },
      "source": [
        "<a href=\"https://colab.research.google.com/github/Hyuki56/pythonStudy25/blob/master/3_3_ForExam.ipynb\" target=\"_parent\"><img src=\"https://colab.research.google.com/assets/colab-badge.svg\" alt=\"Open In Colab\"/></a>"
      ]
    },
    {
      "cell_type": "code",
      "execution_count": null,
      "metadata": {
        "id": "uNyEWSZCG_9C"
      },
      "outputs": [],
      "source": [
        "#for 문 사용하여 합격 불합격 나누기\n",
        "marks = [90, 25, 67, 45, 80]\n",
        "\n",
        "member = 0\n",
        "for i in marks:\n",
        "  member+=1\n",
        "  if i >= 60:\n",
        "    print(f\"{member}번 학생은 합격입니다.\")\n",
        "  else:\n",
        "    print(f\"{member}번 학생은 불합격입니다.\")"
      ]
    },
    {
      "cell_type": "code",
      "execution_count": null,
      "metadata": {
        "colab": {
          "base_uri": "https://localhost:8080/"
        },
        "id": "HLsg3TdIHO30",
        "outputId": "77002e4d-b1d6-44e0-d3c9-18c050d34981"
      },
      "outputs": [
        {
          "name": "stdout",
          "output_type": "stream",
          "text": [
            "1번 학생 축하드립니다. 90점으로 합격입니다\n",
            "3번 학생 축하드립니다. 67점으로 합격입니다\n",
            "5번 학생 축하드립니다. 80점으로 합격입니다\n"
          ]
        }
      ],
      "source": [
        "#for 문과 continue를 사용하여 합격만 출력 ( continue를 만나면 for문 처음으로 )\n",
        "marks = [90, 25, 67, 45, 80]\n",
        "member = 0\n",
        "for score in marks:\n",
        "  member += 1\n",
        "  if score < 60:\n",
        "    continue\n",
        "  print(f\"{member}번 학생 축하드립니다. {score}점으로 합격입니다\")"
      ]
    },
    {
      "cell_type": "code",
      "execution_count": null,
      "metadata": {
        "colab": {
          "base_uri": "https://localhost:8080/"
        },
        "id": "qPt5tKkVHwAE",
        "outputId": "d74f4211-f60e-4fa6-b454-926e18016f02"
      },
      "outputs": [
        {
          "name": "stdout",
          "output_type": "stream",
          "text": [
            "55\n"
          ]
        }
      ],
      "source": [
        "# range 함수\n",
        "add = 0\n",
        "for i in range(1, 11):\n",
        "  add += i\n",
        "\n",
        "print(add)"
      ]
    },
    {
      "cell_type": "code",
      "execution_count": null,
      "metadata": {
        "colab": {
          "base_uri": "https://localhost:8080/"
        },
        "id": "RZZzjfjGH4jM",
        "outputId": "f33ba6cc-9530-46a9-f01d-ec14625f30fb"
      },
      "outputs": [
        {
          "name": "stdout",
          "output_type": "stream",
          "text": [
            "0번 학생 축하드립니다. 합격입니다.\n",
            "2번 학생 축하드립니다. 합격입니다.\n",
            "4번 학생 축하드립니다. 합격입니다.\n"
          ]
        }
      ],
      "source": [
        "# range 함수를 활용하여 간단하게 출력\n",
        "marks = [90, 25, 67, 45, 80]\n",
        "for number in range(len(marks)):\n",
        "  if marks[number] < 60:\n",
        "    continue\n",
        "  print(f\"{number}번 학생 축하드립니다. 합격입니다.\")"
      ]
    },
    {
      "cell_type": "code",
      "execution_count": null,
      "metadata": {
        "colab": {
          "base_uri": "https://localhost:8080/"
        },
        "id": "n3HlFxOkIhUU",
        "outputId": "39000228-7a6d-4a0d-ebf8-9512e82e410d"
      },
      "outputs": [
        {
          "name": "stdout",
          "output_type": "stream",
          "text": [
            "1     2     3     4     5     6     7     8     9      \n",
            "2     4     6     8     10    12    14    16    18     \n",
            "3     6     9     12    15    18    21    24    27     \n",
            "4     8     12    16    20    24    28    32    36     \n",
            "5     10    15    20    25    30    35    40    45     \n",
            "6     12    18    24    30    36    42    48    54     \n",
            "7     14    21    28    35    42    49    56    63     \n",
            "8     16    24    32    40    48    56    64    72     \n",
            "9     18    27    36    45    54    63    72    81     \n"
          ]
        }
      ],
      "source": [
        "#for & range를 이용한 구구단 ( 좌측 정렬 )\n",
        "for i in range(1, 10):\n",
        "  for j in range(1, 10):\n",
        "    print(f\"{i*j:<5} \",end=\"\")\n",
        "  print(\" \")"
      ]
    },
    {
      "cell_type": "code",
      "execution_count": null,
      "metadata": {
        "colab": {
          "base_uri": "https://localhost:8080/"
        },
        "id": "Tk4o1aJgJOFr",
        "outputId": "73329f37-25e5-429c-cc82-8b9929fdc96a"
      },
      "outputs": [
        {
          "name": "stdout",
          "output_type": "stream",
          "text": [
            "[3, 6, 9, 12]\n"
          ]
        }
      ],
      "source": [
        "# 리스트 컴프리헨션( 리스트 안에 for문 ) 사용\n",
        "a = [1,2,3,4]\n",
        "result = []\n",
        "for num in a:\n",
        "  result.append(num*3)\n",
        "\n",
        "print(result)"
      ]
    },
    {
      "cell_type": "code",
      "execution_count": null,
      "metadata": {
        "colab": {
          "base_uri": "https://localhost:8080/"
        },
        "id": "ALFtikbEJlgr",
        "outputId": "5ae7525a-2857-4d6c-c908-e2f4ace0f36e"
      },
      "outputs": [
        {
          "name": "stdout",
          "output_type": "stream",
          "text": [
            "[6, 12]\n"
          ]
        }
      ],
      "source": [
        "a = [1,2,3,4]\n",
        "result = [num * 3 for num in a if num % 2 == 0]\n",
        "print(result)"
      ]
    },
    {
      "cell_type": "code",
      "execution_count": null,
      "metadata": {
        "colab": {
          "base_uri": "https://localhost:8080/"
        },
        "id": "pUnIR5MJJ7Ib",
        "outputId": "1359b3c7-9f97-425b-abc7-913027526ae2"
      },
      "outputs": [
        {
          "name": "stdout",
          "output_type": "stream",
          "text": [
            "[2, 4, 6, 8, 10, 12, 14, 16, 18, 3, 6, 9, 12, 15, 18, 21, 24, 27, 4, 8, 12, 16, 20, 24, 28, 32, 36, 5, 10, 15, 20, 25, 30, 35, 40, 45, 6, 12, 18, 24, 30, 36, 42, 48, 54, 7, 14, 21, 28, 35, 42, 49, 56, 63, 8, 16, 24, 32, 40, 48, 56, 64, 72, 9, 18, 27, 36, 45, 54, 63, 72, 81]\n"
          ]
        }
      ],
      "source": [
        "# 컴프리헨션을 사용하여 구구단을 리스트에 담기\n",
        "result = [x*y for x in range(2,10)\n",
        "              for y in range(1,10)]\n",
        "print(result)"
      ]
    },
    {
      "cell_type": "code",
      "execution_count": null,
      "metadata": {
        "id": "3A9kW4yOLMP7",
        "colab": {
          "base_uri": "https://localhost:8080/"
        },
        "outputId": "6f71494f-cafe-4470-ebc3-0f6ad2e09bfe"
      },
      "outputs": [
        {
          "output_type": "stream",
          "name": "stdout",
          "text": [
            "\n",
            "    1. 학생 성적 입력\n",
            "    2. 특정 학생 성적 조회\n",
            "    3. 특정 학생 성적 수정\n",
            "    4. 특정 학생 성적 삭제\n",
            "    0. 프로그램 종료\n",
            "    \n",
            "원하는 항목을 선택하세요 : 1\n",
            "==============================\n",
            "이름을 입력하세요 : 1\n",
            "국어 점수를 입력하세요 : 30\n",
            "수학 점수를 입력하세요 : 30\n",
            "영어 점수를 입력하세요 : 40\n",
            "\n",
            "    1. 학생 성적 입력\n",
            "    2. 특정 학생 성적 조회\n",
            "    3. 특정 학생 성적 수정\n",
            "    4. 특정 학생 성적 삭제\n",
            "    0. 프로그램 종료\n",
            "    \n",
            "원하는 항목을 선택하세요 : 0\n",
            "==============================\n",
            "1님의 점수는 국어 :  30 수학 :  30 영어 :  40\n",
            "\n",
            "과목별 평균 점수를 출력합니다\n",
            "전체 국어 평균 : 30.0\n",
            "전체 수학 평균 : 30.0\n",
            "전체 영어 평균 : 40.0\n"
          ]
        }
      ],
      "source": [
        "from functools import total_ordering\n",
        "# 성적 처리\n",
        "# 1. 여러명의 데이터를 리스트로 입력 받아 처리\n",
        "# 2. 성적에 대한 CRUD\n",
        "# 3. 학생에 대한 CRUD\n",
        "# 4. 통계에 대한 CRUD 등을 작성한다\n",
        "\n",
        "# 1. 데이터 처리 받기 위한 과목을 리스트로 선언\n",
        "student = []\n",
        "kor = []\n",
        "math = []\n",
        "eng = []\n",
        "\n",
        "# 2. 반복문을 통한 성적을 리스트에 추가하기 ( if 1>C 2>R 3>U 4>D )\n",
        "run = True\n",
        "while run:\n",
        "    print(\"\"\"\n",
        "    1. 학생 성적 입력\n",
        "    2. 특정 학생 성적 조회\n",
        "    3. 특정 학생 성적 수정\n",
        "    4. 특정 학생 성적 삭제\n",
        "    0. 프로그램 종료\n",
        "    \"\"\")\n",
        "\n",
        "    select = int(input(\"원하는 항목을 선택하세요 : \"))\n",
        "    print('=' * 30)\n",
        "\n",
        "    if select == 0:\n",
        "        run = False\n",
        "    elif select == 1: # Create\n",
        "        student.append(input(\"이름을 입력하세요 : \"))\n",
        "        kor.append(int(input(\"국어 점수를 입력하세요 : \")))\n",
        "        math.append(int(input(\"수학 점수를 입력하세요 : \")))\n",
        "        eng.append(int(input(\"영어 점수를 입력하세요 : \")))\n",
        "        continue\n",
        "    elif select == 2: # Read\n",
        "        print(f\"이름 : {student}\")\n",
        "        number = int(input(\"조회할 학생의 번호를 입력하세요 : \"))\n",
        "        print(f\"이름 : {student[number]} 국어 : {kor[number]} 수학 : {math[number]} 영어 : {eng[number]}\")\n",
        "        continue\n",
        "    elif select == 3: # Update\n",
        "        print(f\"이름 : {student}\")\n",
        "        number = int(input(\"수정할 학생의 번호를 입력하세요: \"))\n",
        "        kor[number] = int(input(\"국어 점수를 입력하세요 : \"))\n",
        "        math[number] = int(input(\"수학 점수를 입력하세요 : \"))\n",
        "        eng[number] = int(input(\"영어 점수를 입력하세요 : \"))\n",
        "        continue\n",
        "    elif select == 4: # Delete\n",
        "        print(f\"이름 : {student}\")\n",
        "        number = int(input(\"삭제할 학생의 번호를 입력하세요 : \"))\n",
        "        del student[number]\n",
        "        del kor[number]\n",
        "        del math[number]\n",
        "        del eng[number]\n",
        "        continue\n",
        "    else:\n",
        "        print(\"잘못 선택하셨습니다\")\n",
        "        continue\n",
        "\n",
        "# 3. 전체 학생 출력\n",
        "for i in range(len(student)):\n",
        "    print(f\"{student[i]}님의 점수는 국어 : {kor[i]:>3} 수학 : {math[i]:>3} 영어 : {eng[i]:>3}\")\n",
        "    i += 1\n",
        "\n",
        "# 4. 모든 학생의 통계 ( 과목별 평균 , 총합 평균)\n",
        "total_kor = 0\n",
        "total_math = 0\n",
        "total_eng = 0\n",
        "avg = 0\n",
        "\n",
        "for i in kor:\n",
        "    total_kor += i\n",
        "for i in math:\n",
        "    total_math += i\n",
        "for i in eng:\n",
        "    total_eng += i\n",
        "\n",
        "print(f\"\"\"\n",
        "과목별 평균 점수를 출력합니다\"\"\")\n",
        "print(f\"전체 국어 평균 : {total_kor/len(kor)}\")\n",
        "print(f\"전체 수학 평균 : {total_math/len(math)}\")\n",
        "print(f\"전체 영어 평균 : {total_eng/len(eng)}\")"
      ]
    }
  ],
  "metadata": {
    "colab": {
      "provenance": [],
      "authorship_tag": "ABX9TyMFI7Zo9UH8xAfftqKJSpCd",
      "include_colab_link": true
    },
    "kernelspec": {
      "display_name": "Python 3",
      "name": "python3"
    },
    "language_info": {
      "name": "python"
    }
  },
  "nbformat": 4,
  "nbformat_minor": 0
}