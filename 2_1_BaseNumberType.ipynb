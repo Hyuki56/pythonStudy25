{
  "nbformat": 4,
  "nbformat_minor": 0,
  "metadata": {
    "colab": {
      "provenance": [],
      "authorship_tag": "ABX9TyNySFWAIJLVkMHj35djd7Ex",
      "include_colab_link": true
    },
    "kernelspec": {
      "name": "python3",
      "display_name": "Python 3"
    },
    "language_info": {
      "name": "python"
    }
  },
  "cells": [
    {
      "cell_type": "markdown",
      "metadata": {
        "id": "view-in-github",
        "colab_type": "text"
      },
      "source": [
        "<a href=\"https://colab.research.google.com/github/Hyuki56/pythonStudy25/blob/master/2_1_BaseNumberType.ipynb\" target=\"_parent\"><img src=\"https://colab.research.google.com/assets/colab-badge.svg\" alt=\"Open In Colab\"/></a>"
      ]
    },
    {
      "cell_type": "code",
      "execution_count": null,
      "metadata": {
        "colab": {
          "base_uri": "https://localhost:8080/"
        },
        "id": "Sonct1ms6znI",
        "outputId": "21cd681f-8e18-48e3-93a1-6e4df418a979"
      },
      "outputs": [
        {
          "output_type": "stream",
          "name": "stdout",
          "text": [
            "123\n",
            "-123\n",
            "0\n"
          ]
        }
      ],
      "source": [
        "# 주석은 실행이 되지 않는 문구를 말하낟.\n",
        "# 주석은 코드에 설명을 작성하는 부분으로 많이 사용된다.\n",
        "\n",
        "# 숫자 자료형 (Number타입) : 숫자 형태로 이루어진 자료형\n",
        "# 123 정수형\n",
        "# 12.34 실수형\n",
        "# 8진수, 16진수 등도 포함된다.\n",
        "\n",
        "# 정수형 (integer) 양의 정수, 음의 정수, 0 등을 포함\n",
        "a = 123 # if Java : int a = 123;\n",
        "b = -123\n",
        "c = 0\n",
        "\n",
        "print(a)\n",
        "print(b)\n",
        "print(c)"
      ]
    },
    {
      "cell_type": "code",
      "source": [
        "# 실수형(floating-point) : 소수점이 포함된 숫자.\n",
        "d = 1.2\n",
        "e = -3.45\n",
        "\n",
        "print(d)\n",
        "print(e)"
      ],
      "metadata": {
        "colab": {
          "base_uri": "https://localhost:8080/"
        },
        "id": "IR8ZuCiY9CrC",
        "outputId": "3374b6c4-836b-439c-9f41-16e331893174"
      },
      "execution_count": null,
      "outputs": [
        {
          "output_type": "stream",
          "name": "stdout",
          "text": [
            "1.2\n",
            "-3.45\n"
          ]
        }
      ]
    },
    {
      "cell_type": "code",
      "source": [
        "# 지수표현 방법\n",
        "f = 1.23E3   # 1.23*10^3\n",
        "g = 1.23e-3   # 1.23*10^-3\n",
        "\n",
        "print(f)\n",
        "print(g)"
      ],
      "metadata": {
        "colab": {
          "base_uri": "https://localhost:8080/"
        },
        "id": "kHyCzTr49Yby",
        "outputId": "7dc7bc81-e9cb-4e2b-9e91-2ae16f6a42e5"
      },
      "execution_count": null,
      "outputs": [
        {
          "output_type": "stream",
          "name": "stdout",
          "text": [
            "1230.0\n",
            "0.00123\n"
          ]
        }
      ]
    },
    {
      "cell_type": "code",
      "source": [
        "# 8진수 -> 0~7까지 8개로 구현되는 숫자\n",
        "# 16진수 -> 0~15까지 16개로 구현되는 숫자\n",
        "\n",
        "h = 0o77 # 8진수 77\n",
        "print(h) # 10진수 변환 출력 63\n",
        "\n",
        "i = 0xaa # 16진수 aa\n",
        "print(i) # 10진수 변환 출력 170"
      ],
      "metadata": {
        "colab": {
          "base_uri": "https://localhost:8080/"
        },
        "id": "bBDsQxWW-gQJ",
        "outputId": "0fa348ed-d157-4cb4-a45f-a21e82124461"
      },
      "execution_count": null,
      "outputs": [
        {
          "output_type": "stream",
          "name": "stdout",
          "text": [
            "63\n",
            "170\n"
          ]
        }
      ]
    },
    {
      "cell_type": "code",
      "source": [
        "# 사칙연산(+, -, *, /) -> 오칙연산(+, -, *, /, %:나머지)\n",
        "\n",
        "a = 3\n",
        "b = 4\n",
        "a + b  # 일회성으로 출력 하는 방법 ( 새 변수에 할당하고 print 안해도 나옴 )"
      ],
      "metadata": {
        "colab": {
          "base_uri": "https://localhost:8080/"
        },
        "id": "PHMpTRDmAhQp",
        "outputId": "7d776537-cd00-4c22-858b-5255dfe4d3b2"
      },
      "execution_count": null,
      "outputs": [
        {
          "output_type": "execute_result",
          "data": {
            "text/plain": [
              "7"
            ]
          },
          "metadata": {},
          "execution_count": 25
        }
      ]
    },
    {
      "cell_type": "code",
      "source": [
        "d = a - b\n",
        "print(d)"
      ],
      "metadata": {
        "colab": {
          "base_uri": "https://localhost:8080/"
        },
        "id": "Lzsgp9AJGIlI",
        "outputId": "b581fb05-98f4-43e7-ec79-9e78b9752529"
      },
      "execution_count": null,
      "outputs": [
        {
          "output_type": "execute_result",
          "data": {
            "text/plain": [
              "-1"
            ]
          },
          "metadata": {},
          "execution_count": 24
        }
      ]
    },
    {
      "cell_type": "code",
      "source": [
        "e = 7 % 3 # 나머지 연산자\n",
        "print(e)"
      ],
      "metadata": {
        "colab": {
          "base_uri": "https://localhost:8080/"
        },
        "id": "Vi667rToGQZP",
        "outputId": "9d0d51bb-721c-42cb-eab5-c9ebaa855bd1"
      },
      "execution_count": null,
      "outputs": [
        {
          "output_type": "stream",
          "name": "stdout",
          "text": [
            "1\n"
          ]
        }
      ]
    },
    {
      "cell_type": "code",
      "source": [
        "f = 7 / 3 # 나누기 연산자\n",
        "print(f)\n",
        "f = 7 // 3 # 나누기 연산자 ( 몫만 출력 )\n",
        "print(f)"
      ],
      "metadata": {
        "colab": {
          "base_uri": "https://localhost:8080/"
        },
        "id": "04UfFGgNGYs_",
        "outputId": "a032b1d7-72ca-47f1-bebf-4c6e8fa76ce8"
      },
      "execution_count": null,
      "outputs": [
        {
          "output_type": "stream",
          "name": "stdout",
          "text": [
            "2.3333333333333335\n",
            "2\n"
          ]
        }
      ]
    },
    {
      "cell_type": "code",
      "source": [
        "a = 3\n",
        "b = 4\n",
        "a ** b"
      ],
      "metadata": {
        "colab": {
          "base_uri": "https://localhost:8080/"
        },
        "id": "wPbSZqw8HIP3",
        "outputId": "2bc8be01-6280-4855-c543-2301f5c50f26"
      },
      "execution_count": null,
      "outputs": [
        {
          "output_type": "execute_result",
          "data": {
            "text/plain": [
              "81"
            ]
          },
          "metadata": {},
          "execution_count": 34
        }
      ]
    },
    {
      "cell_type": "code",
      "source": [
        "# 복합 연산자\n",
        "a = 1\n",
        "a += 1  # a = a + 1\n",
        "print(a)"
      ],
      "metadata": {
        "colab": {
          "base_uri": "https://localhost:8080/"
        },
        "id": "vFW3aOjMHekH",
        "outputId": "03f9fec2-572b-48aa-e69d-06b16878f9f2"
      },
      "execution_count": null,
      "outputs": [
        {
          "output_type": "stream",
          "name": "stdout",
          "text": [
            "2\n"
          ]
        }
      ]
    }
  ]
}